{
 "cells": [
  {
   "cell_type": "code",
   "execution_count": 4,
   "metadata": {},
   "outputs": [
    {
     "name": "stdout",
     "output_type": "stream",
     "text": [
      "Default region:  us-east-1\n",
      "Bucket name:  tory-burch\n"
     ]
    }
   ],
   "source": [
    "import boto3 # type: ignore\n",
    "from pyathena import connect # type: ignore\n",
    "\n",
    "session = boto3.Session()\n",
    "region = session.region_name\n",
    "bucket_name = \"tory-burch\"\n",
    "\n",
    "s3 = boto3.Session().client(\"s3\", region_name=region)\n",
    "\n",
    "conn = connect(s3_staging_dir=\"s3://tory-burch/athena-query-results/\", region_name=region)\n",
    "\n",
    "print(\"Default region: \", region)\n",
    "print(\"Bucket name: \", bucket_name)"
   ]
  },
  {
   "cell_type": "code",
   "execution_count": 5,
   "metadata": {},
   "outputs": [
    {
     "data": {
      "text/plain": [
       "[('{bytes=[B@41786bae, path=91168184_2.jpeg}',\n",
       "  'jackets',\n",
       "  'casual jackets',\n",
       "  'multicolor roadmaster 2.0 signature 6 oz. wax cotton jacket',\n",
       "  'black leather jacket with a gold zipper. the jacket has a belted waist, two front pockets, and a collar. the jacket is made of leather and has a sleek, modern style.',\n",
       "  '91168184_2'),\n",
       " ('{bytes=[B@610116c9, path=91168184_3.jpeg}',\n",
       "  'jackets',\n",
       "  'casual jackets',\n",
       "  'multicolor roadmaster 2.0 signature 6 oz. wax cotton jacket',\n",
       "  \"black leather jacket with a belt. the jacket has a gold zipper and a gold buckle. the belt is black and made of leather. the jacket is a women's style and has a collar. the jacket is a motorcycle jacket and is made of leather. the jacket is a black leather jacket with a belt.\",\n",
       "  '91168184_3'),\n",
       " ('{bytes=[B@73794967, path=91168184_4.jpeg}',\n",
       "  'jackets',\n",
       "  'casual jackets',\n",
       "  'multicolor roadmaster 2.0 signature 6 oz. wax cotton jacket',\n",
       "  'black leather jacket with a plaid lining. the jacket has a collar, a front zipper, and two front pockets. the sleeves are long and have a button cuff. the jacket is worn by a woman who is standing in front of a white background.',\n",
       "  '91168184_4'),\n",
       " ('{bytes=[B@7ae88ee8, path=91168421_0.jpeg}',\n",
       "  'jackets',\n",
       "  'casual jackets',\n",
       "  'multicolor silk-blend lurex beaded jacket',\n",
       "  'black and gold jacket with a silver fringe. the jacket has a floral design and is made of a shiny material. the fringe is long and hangs down the front of the jacket.',\n",
       "  '91168421_0'),\n",
       " ('{bytes=[B@784fbf00, path=91168421_1.jpeg}',\n",
       "  'jackets',\n",
       "  'casual jackets',\n",
       "  'multicolor silk-blend lurex beaded jacket',\n",
       "  'black and white jacket with a silver fringe on the edges. the jacket has a gold and silver color scheme with a black and white color combination. the jacket is made of a shiny material and has a fashionable style.',\n",
       "  '91168421_1')]"
      ]
     },
     "execution_count": 5,
     "metadata": {},
     "output_type": "execute_result"
    }
   ],
   "source": [
    "statement = \"SELECT * FROM fashion200k_db.fashion200k LIMIT 5\"\n",
    "cursor = conn.cursor()\n",
    "cursor.execute(statement)\n",
    "cursor.fetchall()\n",
    "\n",
    "\n"
   ]
  },
  {
   "cell_type": "code",
   "execution_count": null,
   "metadata": {},
   "outputs": [],
   "source": []
  }
 ],
 "metadata": {
  "kernelspec": {
   "display_name": "tory_burch",
   "language": "python",
   "name": "python3"
  },
  "language_info": {
   "codemirror_mode": {
    "name": "ipython",
    "version": 3
   },
   "file_extension": ".py",
   "mimetype": "text/x-python",
   "name": "python",
   "nbconvert_exporter": "python",
   "pygments_lexer": "ipython3",
   "version": "3.12.2"
  }
 },
 "nbformat": 4,
 "nbformat_minor": 2
}
