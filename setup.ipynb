{
 "cells": [
  {
   "cell_type": "code",
   "execution_count": 10,
   "metadata": {},
   "outputs": [],
   "source": [
    "import boto3\n",
    "\n",
    "session = boto3.Session()\n",
    "region = session.region_name\n",
    "bucket_name = \"tory-burch\"\n",
    "\n",
    "s3 = boto3.Session().client(\"s3\", region_name=region)\n",
    "\n"
   ]
  },
  {
   "cell_type": "code",
   "execution_count": 11,
   "metadata": {},
   "outputs": [
    {
     "name": "stdout",
     "output_type": "stream",
     "text": [
      "Default region:  us-east-1\n",
      "Bucket name:  tory-burch\n"
     ]
    }
   ],
   "source": [
    "print(\"Default region: \", region)\n",
    "print(\"Bucket name: \", bucket_name)\n"
   ]
  },
  {
   "cell_type": "code",
   "execution_count": 12,
   "metadata": {},
   "outputs": [],
   "source": [
    "from pyathena import connect\n"
   ]
  },
  {
   "cell_type": "code",
   "execution_count": 13,
   "metadata": {},
   "outputs": [],
   "source": [
    "conn = connect(s3_staging_dir=\"s3://tory-burch/athena-query-results/\", region_name=region)"
   ]
  },
  {
   "cell_type": "code",
   "execution_count": 15,
   "metadata": {},
   "outputs": [
    {
     "data": {
      "text/plain": [
       "[('{bytes=[B@625d4bbe, path=80718494_0.jpeg}',\n",
       "  'tops',\n",
       "  'short sleeve tops',\n",
       "  'black striped cotton-blend t-shirt',\n",
       "  'striped black and white short sleeve shirt. the shirt is made of a soft, breathable material and has a rounded neckline. the stripes are thin and evenly spaced, creating a subtle pattern.',\n",
       "  '80718494_0'),\n",
       " ('{bytes=[B@3fc31ffc, path=80718494_1.jpeg}',\n",
       "  'tops',\n",
       "  'short sleeve tops',\n",
       "  'black striped cotton-blend t-shirt',\n",
       "  'striped shirt with a black and white color scheme. the shirt has a round neckline and short sleeves. the stripes are thin and run vertically down the shirt. the material appears to be a cotton blend.',\n",
       "  '80718494_1'),\n",
       " ('{bytes=[B@28a25d3a, path=80718494_2.jpeg}',\n",
       "  'tops',\n",
       "  'short sleeve tops',\n",
       "  'black striped cotton-blend t-shirt',\n",
       "  'striped black and white shirt with a rounded neckline and short sleeves. the stripes are thin and the shirt is made of a soft, stretchy material.',\n",
       "  '80718494_2'),\n",
       " ('{bytes=[B@2aaf96da, path=80758724_2.jpeg}',\n",
       "  'tops',\n",
       "  'short sleeve tops',\n",
       "  'red classic polo shirt',\n",
       "  \"red polo shirt with a collar and a front button. the shirt has a small round button on the collar and a small slit on the back. the fabric is a cotton blend and the shirt is a women's fit.\",\n",
       "  '80758724_2'),\n",
       " ('{bytes=[B@22a7388a, path=80758724_3.jpeg}',\n",
       "  'tops',\n",
       "  'short sleeve tops',\n",
       "  'red classic polo shirt',\n",
       "  'red polo shirt with a collar. the shirt has a short sleeve design and a small logo on the front. the material appears to be a cotton blend, and the shirt has a classic fit.',\n",
       "  '80758724_3'),\n",
       " ('{bytes=[B@5bcefdd, path=80759283_1.jpeg}',\n",
       "  'tops',\n",
       "  'short sleeve tops',\n",
       "  'pink major short-sleeved silk shirt',\n",
       "  'beige short sleeve shirt with a collar and a front button. the shirt has a loose fit and is made of a lightweight material. it is a part of a fashion collection and is designed to be worn with a pair of khaki pants.',\n",
       "  '80759283_1'),\n",
       " ('{bytes=[B@3f4d39dd, path=80718494_3.jpeg}',\n",
       "  'tops',\n",
       "  'short sleeve tops',\n",
       "  'black striped cotton-blend t-shirt',\n",
       "  'striped black and white short sleeve shirt. the stripes are thin and the shirt is made of a soft material. the shirt is a fitted style and is suitable for a casual or semi-formal occasion.',\n",
       "  '80718494_3'),\n",
       " ('{bytes=[B@698261a8, path=80718494_4.jpeg}',\n",
       "  'tops',\n",
       "  'short sleeve tops',\n",
       "  'black striped cotton-blend t-shirt',\n",
       "  'striped shirt with a black and white color scheme. the shirt has a round neckline and short sleeves. the stripes are thin and run vertically down the shirt. the fabric is a cotton blend and the shirt is a fitted style.',\n",
       "  '80718494_4'),\n",
       " ('{bytes=[B@727a777a, path=80758724_0.jpeg}',\n",
       "  'tops',\n",
       "  'short sleeve tops',\n",
       "  'red classic polo shirt',\n",
       "  'red polo shirt with a collar. the shirt has a rounded neckline and short sleeves. the shirt is made of a red fabric and has a simple design with a single button on the collar.',\n",
       "  '80758724_0'),\n",
       " ('{bytes=[B@10dabcef, path=80758724_1.jpeg}',\n",
       "  'tops',\n",
       "  'short sleeve tops',\n",
       "  'red classic polo shirt',\n",
       "  'red polo shirt with a collar. the shirt is made of a soft material and has a rounded neckline. the color of the shirt is a bright red, and it features a small white button on the collar. the shirt is a classic style and is suitable for both casual and formal occasions.',\n",
       "  '80758724_1')]"
      ]
     },
     "execution_count": 15,
     "metadata": {},
     "output_type": "execute_result"
    }
   ],
   "source": [
    "statement = \"SELECT * FROM fashion200k_db.fashion200k LIMIT 10\"\n",
    "cursor = conn.cursor()\n",
    "cursor.execute(statement)\n",
    "cursor.fetchall()\n",
    "\n"
   ]
  },
  {
   "cell_type": "code",
   "execution_count": null,
   "metadata": {},
   "outputs": [],
   "source": []
  }
 ],
 "metadata": {
  "kernelspec": {
   "display_name": "tory_burch",
   "language": "python",
   "name": "python3"
  },
  "language_info": {
   "codemirror_mode": {
    "name": "ipython",
    "version": 3
   },
   "file_extension": ".py",
   "mimetype": "text/x-python",
   "name": "python",
   "nbconvert_exporter": "python",
   "pygments_lexer": "ipython3",
   "version": "3.12.2"
  }
 },
 "nbformat": 4,
 "nbformat_minor": 2
}
