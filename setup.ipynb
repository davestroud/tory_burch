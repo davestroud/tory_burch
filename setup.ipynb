{
 "cells": [
  {
   "cell_type": "code",
   "execution_count": 1,
   "metadata": {},
   "outputs": [],
   "source": [
    "import boto3\n",
    "\n",
    "session = boto3.Session()\n",
    "region = session.region_name\n",
    "bucket_name = \"tory-burch\"\n",
    "\n",
    "s3 = boto3.Session().client(\"s3\", region_name=region)\n",
    "\n"
   ]
  },
  {
   "cell_type": "code",
   "execution_count": 2,
   "metadata": {},
   "outputs": [
    {
     "name": "stdout",
     "output_type": "stream",
     "text": [
      "Default region:  us-east-1\n",
      "Bucket name:  tory-burch\n"
     ]
    }
   ],
   "source": [
    "print(\"Default region: \", region)\n",
    "print(\"Bucket name: \", bucket_name)\n"
   ]
  },
  {
   "cell_type": "code",
   "execution_count": 5,
   "metadata": {},
   "outputs": [],
   "source": [
    "from pyathena import connect\n"
   ]
  },
  {
   "cell_type": "code",
   "execution_count": 6,
   "metadata": {},
   "outputs": [],
   "source": [
    "conn = connect(s3_staging_dir=\"s3://tory-burch/athena-query-results/\", region_name=region)"
   ]
  },
  {
   "cell_type": "code",
   "execution_count": 9,
   "metadata": {},
   "outputs": [
    {
     "data": {
      "text/plain": [
       "[(None, None, None, None, None),\n",
       " (None, None, None, None, None),\n",
       " (None, None, None, None, None),\n",
       " (None, None, None, None, None),\n",
       " (None, None, None, None, None),\n",
       " (None, None, None, None, None),\n",
       " (None, None, None, None, None),\n",
       " (None, None, None, None, None),\n",
       " (None, None, None, None, None),\n",
       " (None, None, None, None, None)]"
      ]
     },
     "execution_count": 9,
     "metadata": {},
     "output_type": "execute_result"
    }
   ],
   "source": [
    "statement = \"SELECT * FROM fashion200k_db.fashion200k_table LIMIT 10\"\n",
    "cursor = conn.cursor()\n",
    "cursor.execute(statement)\n",
    "cursor.fetchall()\n",
    "\n"
   ]
  },
  {
   "cell_type": "code",
   "execution_count": null,
   "metadata": {},
   "outputs": [],
   "source": []
  }
 ],
 "metadata": {
  "kernelspec": {
   "display_name": "tory_burch",
   "language": "python",
   "name": "python3"
  },
  "language_info": {
   "codemirror_mode": {
    "name": "ipython",
    "version": 3
   },
   "file_extension": ".py",
   "mimetype": "text/x-python",
   "name": "python",
   "nbconvert_exporter": "python",
   "pygments_lexer": "ipython3",
   "version": "3.12.2"
  }
 },
 "nbformat": 4,
 "nbformat_minor": 2
}
